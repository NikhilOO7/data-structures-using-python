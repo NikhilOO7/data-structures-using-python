{
 "cells": [
  {
   "cell_type": "markdown",
   "metadata": {},
   "source": [
    "# Array Problems"
   ]
  },
  {
   "cell_type": "markdown",
   "metadata": {},
   "source": [
    "## 1. Anagram problem\n",
    "\n",
    "An anagram is when 2 strings can be written using exact same letters (so you can just rearrange the letters to get a different phrase or word).\n",
    "\n",
    "For ex: \n",
    "        \"public relations\" is an anagram of \"crap built on lies\""
   ]
  },
  {
   "cell_type": "markdown",
   "metadata": {},
   "source": [
    "### Solution:"
   ]
  },
  {
   "cell_type": "code",
   "execution_count": 1,
   "metadata": {},
   "outputs": [],
   "source": [
    "# Function to check if the given Strings are anagram\n",
    "def anagram(string1, string2):\n",
    "    \n",
    "    # First delete the spaces in string if any and also convert all the characters to lower case\n",
    "    string1 = string1.replace(' ', '').lower()\n",
    "    string2 = string2.replace(' ', '').lower()\n",
    "    \n",
    "    # Check the length of both strings are equal or not\n",
    "    if len(string1) != len(string2):\n",
    "        return False\n",
    "    \n",
    "    # creating a dictionary to make record of the letters used in a string\n",
    "    letters = {}\n",
    "    \n",
    "    # now populate the letters dictionary with the characters used in string\n",
    "    # along with the number of times they are used\n",
    "    \n",
    "    for i in string1:\n",
    "        if i in letters:\n",
    "            letters[i] += 1\n",
    "        else:\n",
    "            letters[i] = 1\n",
    "    \n",
    "    \n",
    "    # now find elements in string2\n",
    "    for i in string2:\n",
    "        if i in letters:\n",
    "            letters[i] -= 1\n",
    "        else:\n",
    "            return False\n",
    "    \n",
    "    # now check if both are equal\n",
    "    for i in letters:\n",
    "        if letters[i] != 0:\n",
    "            return False\n",
    "    \n",
    "    return True"
   ]
  },
  {
   "cell_type": "code",
   "execution_count": 2,
   "metadata": {},
   "outputs": [
    {
     "data": {
      "text/plain": [
       "True"
      ]
     },
     "execution_count": 2,
     "metadata": {},
     "output_type": "execute_result"
    }
   ],
   "source": [
    "anagram(\"public relations\", \"crap built on lies\")"
   ]
  },
  {
   "cell_type": "code",
   "execution_count": null,
   "metadata": {},
   "outputs": [],
   "source": []
  }
 ],
 "metadata": {
  "kernelspec": {
   "display_name": "Python 3",
   "language": "python",
   "name": "python3"
  },
  "language_info": {
   "codemirror_mode": {
    "name": "ipython",
    "version": 3
   },
   "file_extension": ".py",
   "mimetype": "text/x-python",
   "name": "python",
   "nbconvert_exporter": "python",
   "pygments_lexer": "ipython3",
   "version": "3.6.5"
  }
 },
 "nbformat": 4,
 "nbformat_minor": 2
}
