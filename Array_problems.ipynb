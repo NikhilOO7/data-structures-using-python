{
 "cells": [
  {
   "cell_type": "markdown",
   "metadata": {},
   "source": [
    "# Array Problems"
   ]
  },
  {
   "cell_type": "markdown",
   "metadata": {},
   "source": [
    "## 1. Anagram problem\n",
    "\n",
    "An anagram is when 2 strings can be written using exact same letters (so you can just rearrange the letters to get a different phrase or word).\n",
    "\n",
    "For ex: \n",
    "        \"public relations\" is an anagram of \"crap built on lies\""
   ]
  },
  {
   "cell_type": "markdown",
   "metadata": {},
   "source": [
    "### Solution:"
   ]
  },
  {
   "cell_type": "code",
   "execution_count": 1,
   "metadata": {},
   "outputs": [],
   "source": [
    "# Function to check if the given Strings are anagram\n",
    "def anagram(string1, string2):\n",
    "    \n",
    "    # First delete the spaces in string if any and also convert all the characters to lower case\n",
    "    string1 = string1.replace(' ', '').lower()\n",
    "    string2 = string2.replace(' ', '').lower()\n",
    "    \n",
    "    # Check the length of both strings are equal or not\n",
    "    if len(string1) != len(string2):\n",
    "        return False\n",
    "    \n",
    "    # creating a dictionary to make record of the letters used in a string\n",
    "    letters = {}\n",
    "    \n",
    "    # now populate the letters dictionary with the characters used in string\n",
    "    # along with the number of times they are used\n",
    "    \n",
    "    for i in string1:\n",
    "        if i in letters:\n",
    "            letters[i] += 1\n",
    "        else:\n",
    "            letters[i] = 1\n",
    "    \n",
    "    \n",
    "    # now find elements in string2\n",
    "    for i in string2:\n",
    "        if i in letters:\n",
    "            letters[i] -= 1\n",
    "        else:\n",
    "            return False\n",
    "    \n",
    "    # now check if both are equal\n",
    "    for i in letters:\n",
    "        if letters[i] != 0:\n",
    "            return False\n",
    "    \n",
    "    return True"
   ]
  },
  {
   "cell_type": "code",
   "execution_count": 2,
   "metadata": {},
   "outputs": [
    {
     "data": {
      "text/plain": [
       "True"
      ]
     },
     "execution_count": 2,
     "metadata": {},
     "output_type": "execute_result"
    }
   ],
   "source": [
    "anagram(\"public relations\", \"crap built on lies\")"
   ]
  },
  {
   "cell_type": "markdown",
   "metadata": {},
   "source": [
    "\n",
    "\n",
    "## 2. Array pair sum problem\n",
    "Given an integer array, output all the unique pairs that sums up to a specific value of k.\n",
    "\n",
    "So the input will be:\n",
    "                \n",
    "                pair_sum([1,2,2,3], 4)\n",
    "                \n",
    "would return 2 pairs:\n",
    "                (1,3)\n",
    "                (2,2)"
   ]
  },
  {
   "cell_type": "markdown",
   "metadata": {},
   "source": [
    "### Solution:"
   ]
  },
  {
   "cell_type": "code",
   "execution_count": 23,
   "metadata": {},
   "outputs": [],
   "source": [
    "# function to find the pairs\n",
    "def pair_sum(arr, val):\n",
    "    \n",
    "    counter = 0   # Counter to count number of pairs possible\n",
    "    lookup = set()  # A set of elements by eliminating repeatitive values\n",
    "    pairs = []    # An array of the pairs possible\n",
    "    \n",
    "    # loop to check the pairs poosible\n",
    "    for num in arr:\n",
    "        if val-num in lookup:\n",
    "            counter += 1\n",
    "            pairs.append((num, val-num))\n",
    "        else:\n",
    "            lookup.add(num)\n",
    "    \n",
    "    return \"Total possible pairs are: \"+ str(counter) + \"\\npairs are: \" + str(pairs)"
   ]
  },
  {
   "cell_type": "code",
   "execution_count": 24,
   "metadata": {},
   "outputs": [
    {
     "name": "stdout",
     "output_type": "stream",
     "text": [
      "Total possible pairs are: 2\n",
      "pairs are: [(3, 1), (2, 2)]\n"
     ]
    }
   ],
   "source": [
    "result = pair_sum([1,3,2,2], 4)\n",
    "print(result)"
   ]
  },
  {
   "cell_type": "markdown",
   "metadata": {},
   "source": [
    "\n",
    "\n",
    "## 3. Find the missing element\n",
    "Consider an array of non-negative integers. A second array is formed by shuffling the elements of first array and deleting a random element. Find which element is missing in the 2nd array.\n",
    "\n",
    "For ex:\n",
    "\n",
    "           finder([1,2,3,4,5,6,7], [3,7,2,1,4,6])\n",
    "           \n",
    "           missing element: 5"
   ]
  },
  {
   "cell_type": "markdown",
   "metadata": {},
   "source": [
    "### Solution:"
   ]
  },
  {
   "cell_type": "code",
   "execution_count": 3,
   "metadata": {},
   "outputs": [],
   "source": [
    "# Function to find the missing element in array\n",
    "def finder(arr1, arr2):\n",
    "    \n",
    "    sum = 0\n",
    "    for i in arr1:\n",
    "        sum = sum + i\n",
    "    \n",
    "    for i in arr2:\n",
    "        sum = sum - i\n",
    "    \n",
    "    return sum"
   ]
  },
  {
   "cell_type": "code",
   "execution_count": 4,
   "metadata": {},
   "outputs": [
    {
     "data": {
      "text/plain": [
       "5"
      ]
     },
     "execution_count": 4,
     "metadata": {},
     "output_type": "execute_result"
    }
   ],
   "source": [
    "finder([1,2,3,4,5,6,7], [3,7,2,1,4,6])"
   ]
  },
  {
   "cell_type": "code",
   "execution_count": 7,
   "metadata": {},
   "outputs": [],
   "source": [
    "# Function to find multiple missing values\n",
    "def find_multiple_values(arr1, arr2):\n",
    "    \n",
    "    numbers = {}  # Dictionary for the record of occurence of integers\n",
    "    \n",
    "    # Add numbers and their occurences in numbers dictionary\n",
    "    for i in arr1:\n",
    "        if i in numbers:\n",
    "            numbers[i] += 1\n",
    "        else:\n",
    "            numbers[i] = 1\n",
    "    \n",
    "    # now deduct the occurences of numbers that are found in arr2 \n",
    "    for i in arr2:\n",
    "        if i in numbers:\n",
    "            numbers[i] -= 1\n",
    "    \n",
    "    # now return the missing values\n",
    "    missing_values = []\n",
    "    for i in numbers:\n",
    "        if numbers[i] != 0:\n",
    "            missing_values.append(i)\n",
    "    return missing_values"
   ]
  },
  {
   "cell_type": "code",
   "execution_count": 8,
   "metadata": {},
   "outputs": [
    {
     "data": {
      "text/plain": [
       "[5, 6]"
      ]
     },
     "execution_count": 8,
     "metadata": {},
     "output_type": "execute_result"
    }
   ],
   "source": [
    "find_multiple_values([1,2,3,4,5,6,7], [3,7,2,1,4])"
   ]
  },
  {
   "cell_type": "markdown",
   "metadata": {},
   "source": [
    "\n",
    "# 4. Find the largest continous sum\n",
    "Given an array of integers(positive or negative) find the largest continous sum."
   ]
  },
  {
   "cell_type": "markdown",
   "metadata": {},
   "source": [
    "### Solution:"
   ]
  },
  {
   "cell_type": "code",
   "execution_count": 13,
   "metadata": {},
   "outputs": [],
   "source": [
    "# function to find the largest continous sum\n",
    "def largest_continous_sum(arr):\n",
    "    \n",
    "    if len(arr) == 0:\n",
    "        return 0\n",
    "    max_sum = current_sum = arr[0]\n",
    "    \n",
    "    for i in arr[1:]:\n",
    "        current_sum = max(current_sum + i, i)\n",
    "        max_sum = max(current_sum, max_sum)\n",
    "    return max_sum"
   ]
  },
  {
   "cell_type": "code",
   "execution_count": 14,
   "metadata": {},
   "outputs": [
    {
     "data": {
      "text/plain": [
       "29"
      ]
     },
     "execution_count": 14,
     "metadata": {},
     "output_type": "execute_result"
    }
   ],
   "source": [
    "largest_continous_sum([1,2,-1,3,4,10,10,-10,-1])"
   ]
  },
  {
   "cell_type": "markdown",
   "metadata": {},
   "source": [
    "\n",
    "## 5. Reverse the String\n",
    "Given a string of words, reverse all the words.\n",
    "\n",
    "For ex:\n",
    "\n",
    "          'This is the best'\n",
    "Output:\n",
    "\n",
    "          'best the is This'"
   ]
  },
  {
   "cell_type": "code",
   "execution_count": 26,
   "metadata": {},
   "outputs": [],
   "source": [
    "# String can also be reversed by using reversed function\n",
    "# string = 'Hi there'\n",
    "# string = \" \" + .join(reversed( string.split() ))\n",
    "\n",
    "# Mannual method to reverse the string\n",
    "def string_reverse(string):\n",
    "    \n",
    "    \n",
    "    string = string.split(' ')\n",
    "    \n",
    "    new_string = ''\n",
    "    for i in string[::-1]:\n",
    "        new_string = new_string + i + ' '\n",
    "    return new_string"
   ]
  },
  {
   "cell_type": "code",
   "execution_count": 27,
   "metadata": {},
   "outputs": [
    {
     "data": {
      "text/plain": [
       "'best the is This '"
      ]
     },
     "execution_count": 27,
     "metadata": {},
     "output_type": "execute_result"
    }
   ],
   "source": [
    "string_reverse('This is the best')"
   ]
  },
  {
   "cell_type": "markdown",
   "metadata": {},
   "source": [
    "\n",
    "## 6. String compression\n",
    "Given a string like 'AAABBEED' should return 'A3B2E2D1'"
   ]
  },
  {
   "cell_type": "markdown",
   "metadata": {},
   "source": [
    "### Solution:"
   ]
  },
  {
   "cell_type": "code",
   "execution_count": 30,
   "metadata": {},
   "outputs": [],
   "source": [
    "# function to compress string\n",
    "def string_compress(string):\n",
    "    \n",
    "    new_string = ''\n",
    "    l = len(string)\n",
    "    \n",
    "    if l == 0:\n",
    "        return string\n",
    "    \n",
    "    if l == 1:\n",
    "        return string + '1'\n",
    "    \n",
    "    cnt = 1\n",
    "    i = 1\n",
    "    \n",
    "    while i < l:\n",
    "        if string[i] == string[i-1]:\n",
    "            cnt += 1\n",
    "        else:\n",
    "            new_string = new_string + string[i-1] + str(cnt)\n",
    "            cnt = 1\n",
    "        \n",
    "        i += 1\n",
    "    new_string = new_string + string[i-1] + str(cnt)\n",
    "    \n",
    "    return new_string"
   ]
  },
  {
   "cell_type": "code",
   "execution_count": 32,
   "metadata": {},
   "outputs": [
    {
     "data": {
      "text/plain": [
       "'A3g2E2j1'"
      ]
     },
     "execution_count": 32,
     "metadata": {},
     "output_type": "execute_result"
    }
   ],
   "source": [
    "string_compress('AAAggEEj')"
   ]
  },
  {
   "cell_type": "code",
   "execution_count": null,
   "metadata": {},
   "outputs": [],
   "source": []
  }
 ],
 "metadata": {
  "kernelspec": {
   "display_name": "Python 3",
   "language": "python",
   "name": "python3"
  },
  "language_info": {
   "codemirror_mode": {
    "name": "ipython",
    "version": 3
   },
   "file_extension": ".py",
   "mimetype": "text/x-python",
   "name": "python",
   "nbconvert_exporter": "python",
   "pygments_lexer": "ipython3",
   "version": "3.6.5"
  }
 },
 "nbformat": 4,
 "nbformat_minor": 2
}
